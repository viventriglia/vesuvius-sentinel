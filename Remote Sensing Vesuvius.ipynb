{
 "cells": [
  {
   "cell_type": "markdown",
   "id": "smart-bracket",
   "metadata": {
    "slideshow": {
     "slide_type": "slide"
    }
   },
   "source": [
    "# Introduction to Remote Sensing with Python\n",
    "\n",
    ">\"...the time is now right and urgent to apply space technology towards the solution of many pressing natural resources problems being compounded by population and industrial growth.\"\n",
    "\n",
    "- [Stewart Udall, Secretary of the Interior, September 21, 1966](https://prd-wret.s3-us-west-2.amazonaws.com/assets/palladium/production/s3fs-public/atoms/files/1966.09.21-DOI-Udall-Earth%20Resources%20Studied%20From%20Space.pdf)"
   ]
  },
  {
   "cell_type": "markdown",
   "id": "continuous-screen",
   "metadata": {
    "slideshow": {
     "slide_type": "slide"
    }
   },
   "source": [
    "## A remote sensing crash course\n",
    "\n",
    "<img src=\"images/remote.png\" width=600>\n",
    "\n",
    "https://youtu.be/DGE-N8_LQBo\n"
   ]
  },
  {
   "cell_type": "markdown",
   "id": "647eb631",
   "metadata": {},
   "source": [
    "[Incendio Vesuvio 2017](https://www.vesuviolive.it/ultime-notizie/256710-11-luglio-2017-a-fuoco-il-vesuvio-e-il-piu-grande-disastro-ambientale-della-sua-storia/)\n",
    "\n",
    "[Sentinel 2](https://developers.google.com/earth-engine/datasets/catalog/COPERNICUS_S2_SR_HARMONIZED#description)"
   ]
  },
  {
   "cell_type": "markdown",
   "id": "modified-delay",
   "metadata": {
    "slideshow": {
     "slide_type": "slide"
    }
   },
   "source": [
    "## Landsat\n",
    "\n",
    "Landsat is the first \"civilian Earth observation satellite\" launched in 1972, a collaboration between the Department of the Interior, NASA, and the Department of Agriculture.\n",
    "\n",
    "At over 40 years, the Landsat series of satellites provides the longest temporal record of moderate resolution multispectral data of the Earth’s surface on a global basis. The Landsat record has remained remarkably unbroken, proving a unique resource to assist a broad range of specialists in managing the world’s food, water, forests, and other natural resources for a growing world population. It is a record unmatched in quality, detail, coverage, and value. Source: USGS\n",
    "\n",
    "- [NASA's Landsat page](https://www.nasa.gov/mission_pages/landsat/overview/index.html)\n",
    "- [USGS's Landsat page](https://www.usgs.gov/core-science-systems/nli/landsat)"
   ]
  },
  {
   "cell_type": "markdown",
   "id": "particular-particular",
   "metadata": {
    "slideshow": {
     "slide_type": "slide"
    }
   },
   "source": [
    "## How to access landsat data\n",
    "\n",
    "- [USGS Earth Explorer](https://earthexplorer.usgs.gov/)\n",
    "- [Amazon AWS Open Data](https://registry.opendata.aws/landsat-8/)\n",
    "- [Google Earth Engine](https://developers.google.com/earth-engine/datasets/catalog/landsat-8)"
   ]
  },
  {
   "cell_type": "markdown",
   "id": "advised-victoria",
   "metadata": {
    "slideshow": {
     "slide_type": "slide"
    }
   },
   "source": [
    "### The Workflow\n",
    "\n",
    "In this lab, we will do the following:\n",
    "\n",
    "- Use Google Earth Engine's Python API\n",
    "- define an AOI (area of interest) in the Northern California's Butte County\n",
    "- import multiple Landsat images from the dates before and after the Camp Fire\n",
    "- determine which images are best for analysis\n",
    "- create various NDVI map outputs to assess the amount of fire damage"
   ]
  },
  {
   "cell_type": "markdown",
   "id": "48fbfb00-d418-463f-bed3-055732373b23",
   "metadata": {
    "slideshow": {
     "slide_type": "slide"
    }
   },
   "source": [
    "## Python libraries in this workshop\n",
    "\n",
    "- [pandas](https://pandas.pydata.org/docs/getting_started/index.html)\n",
    "- [geopandas](https://geopandas.org/en/stable/gallery/index.html)\n",
    "- [google earth engine](https://developers.google.com/earth-engine/tutorials/community/intro-to-python-api-guiattard)\n"
   ]
  },
  {
   "cell_type": "code",
   "execution_count": null,
   "id": "racial-likelihood",
   "metadata": {
    "slideshow": {
     "slide_type": "-"
    }
   },
   "outputs": [],
   "source": [
    "from datetime import datetime\n",
    "\n",
    "import pandas as pd\n",
    "import numpy as np\n",
    "import geopandas as gpd\n",
    "import ee\n",
    "\n",
    "from IPython.display import Image"
   ]
  },
  {
   "cell_type": "code",
   "execution_count": null,
   "id": "existing-generic",
   "metadata": {
    "slideshow": {
     "slide_type": "-"
    }
   },
   "outputs": [],
   "source": [
    "# Trigger the authentication flow.\n",
    "ee.Authenticate()\n",
    "\n",
    "# Initialize the library.\n",
    "ee.Initialize()"
   ]
  },
  {
   "cell_type": "markdown",
   "id": "returning-bracket",
   "metadata": {
    "slideshow": {
     "slide_type": "slide"
    }
   },
   "source": [
    "For this lab, we will use Google Earth Engine's \"USGS Landsat 8 Level 2, Collection 2, Tier 1\"\n",
    "\n",
    "- [EE Landsat 8](https://developers.google.com/earth-engine/datasets/catalog/LANDSAT_LC08_C02_T1_L2)\n",
    "\n",
    "You can also:\n",
    "\n",
    "- `.filterBounds()` method allows you to filter by location\n",
    "- `.filterDate()` allows you to filter by date"
   ]
  },
  {
   "cell_type": "markdown",
   "id": "seventh-theme",
   "metadata": {
    "slideshow": {
     "slide_type": "slide"
    }
   },
   "source": [
    "## Define filters"
   ]
  },
  {
   "cell_type": "code",
   "execution_count": null,
   "id": "legitimate-phrase",
   "metadata": {
    "slideshow": {
     "slide_type": "-"
    }
   },
   "outputs": [],
   "source": [
    "# coordinates of Vesuvius\n",
    "lat = 40.821330\n",
    "lon = 14.426102\n",
    "\n",
    "# point of interest as an ee.Geometry\n",
    "poi = ee.Geometry.Point(lon,lat)\n",
    "\n",
    "# start date of range to filter for\n",
    "start_date = '2017-05-10'\n",
    "\n",
    "# end date\n",
    "end_date = '2017-08-10'"
   ]
  },
  {
   "cell_type": "markdown",
   "id": "reverse-immune",
   "metadata": {
    "slideshow": {
     "slide_type": "slide"
    }
   },
   "source": [
    "## Get Sentinel 2 data"
   ]
  },
  {
   "cell_type": "code",
   "execution_count": null,
   "id": "30ff58b6-e303-4f3a-93fe-0f54993d3b04",
   "metadata": {
    "slideshow": {
     "slide_type": "-"
    }
   },
   "outputs": [],
   "source": [
    "# get the satellite data\n",
    "sentinel = ee.ImageCollection(\n",
    "    \"COPERNICUS/S2_SR_HARMONIZED\"\n",
    ").filterBounds(poi).filterDate(start_date,end_date)"
   ]
  },
  {
   "cell_type": "code",
   "execution_count": null,
   "id": "invisible-amplifier",
   "metadata": {
    "slideshow": {
     "slide_type": "slide"
    }
   },
   "outputs": [],
   "source": [
    "# how many images did we get?\n",
    "print('Total number:', sentinel.size().getInfo())"
   ]
  },
  {
   "cell_type": "code",
   "execution_count": null,
   "id": "jewish-dakota",
   "metadata": {
    "slideshow": {
     "slide_type": "slide"
    }
   },
   "outputs": [],
   "source": [
    "# information about the first image in our collection\n",
    "# sentinel.first().getInfo()"
   ]
  },
  {
   "cell_type": "code",
   "execution_count": null,
   "id": "velvet-transport",
   "metadata": {
    "slideshow": {
     "slide_type": "slide"
    }
   },
   "outputs": [],
   "source": [
    "# what about cloud cover of our first image?\n",
    "# sentinel.first().get('CLOUD_COVERAGE_ASSESSMENT').getInfo()"
   ]
  },
  {
   "cell_type": "code",
   "execution_count": null,
   "id": "surprising-bleeding",
   "metadata": {
    "slideshow": {
     "slide_type": "slide"
    }
   },
   "outputs": [],
   "source": [
    "# what bands did we get?\n",
    "# sentinel.first().bandNames().getInfo()"
   ]
  },
  {
   "cell_type": "code",
   "execution_count": null,
   "id": "inclusive-blame",
   "metadata": {
    "slideshow": {
     "slide_type": "fragment"
    }
   },
   "outputs": [],
   "source": [
    "# put the images in a list\n",
    "sentinel_list = sentinel.toList(sentinel.size());"
   ]
  },
  {
   "cell_type": "markdown",
   "id": "compact-childhood",
   "metadata": {
    "slideshow": {
     "slide_type": "slide"
    }
   },
   "source": [
    "## Display satellite image\n",
    "\n",
    "- [What are the min/max values?](https://gis.stackexchange.com/questions/304180/what-are-the-min-and-max-values-of-map-addlayer-on-google-earth-engine)"
   ]
  },
  {
   "cell_type": "code",
   "execution_count": null,
   "id": "recreational-feeding",
   "metadata": {},
   "outputs": [],
   "source": [
    "# set some parameters for the images\n",
    "parameters = {\n",
    "                'min': 0,\n",
    "                'max': 3_000,\n",
    "                'dimensions': 1_000, # square size in pixels\n",
    "                'bands': ['B4', 'B3', 'B2'] # bands to display (r,g,b)\n",
    "             }"
   ]
  },
  {
   "cell_type": "code",
   "execution_count": null,
   "id": "subject-mongolia",
   "metadata": {
    "scrolled": false,
    "slideshow": {
     "slide_type": "slide"
    },
    "tags": []
   },
   "outputs": [],
   "source": [
    "# create an empty data container\n",
    "data = []\n",
    "\n",
    "# loop through each image and display it\n",
    "for i in range(sentinel.size().getInfo()):\n",
    "\n",
    "    # when was this image taken?\n",
    "    unix_time = ee.Image(sentinel_list.get(i)).get('GENERATION_TIME').getInfo() / 1_000\n",
    "    date_time = datetime.fromtimestamp(unix_time).strftime('%Y-%m-%d %H:%M:%S')\n",
    "    \n",
    "    # cloud cover\n",
    "    cloud = ee.Image(sentinel_list.get(i)).get('CLOUD_COVERAGE_ASSESSMENT').getInfo()\n",
    "    \n",
    "    # print the image info\n",
    "    print('Image #',i,date_time,'Cloud cover:',cloud)\n",
    "    \n",
    "    # display the image\n",
    "    display(Image(url = ee.Image(sentinel_list.get(i)).getThumbUrl(parameters)))\n",
    "\n",
    "    # data to list\n",
    "    this_data = [i,date_time,cloud]\n",
    "\n",
    "    # append the data \n",
    "    data.append(this_data)\n",
    "    \n",
    "\n",
    "# Create the pandas DataFrame\n",
    "df = pd.DataFrame(data, columns = ['Image #', 'Datetime', 'Cloud Cover'])"
   ]
  },
  {
   "cell_type": "code",
   "execution_count": null,
   "id": "8acb0b6f",
   "metadata": {
    "slideshow": {
     "slide_type": "slide"
    }
   },
   "outputs": [],
   "source": [
    "df"
   ]
  },
  {
   "cell_type": "markdown",
   "id": "parliamentary-correspondence",
   "metadata": {
    "slideshow": {
     "slide_type": "slide"
    }
   },
   "source": [
    "## Selecting images, zooming in\n",
    "Now that we have inspected our collection of images, we can pick and choose which ones are relevant for our study. Ideally, we want to have images for before and after the fire to be able to assess the level of damage.\n",
    "\n",
    "We also want to create an ROI (region of interest) and zoom in to the area of interest. We do so by appying a 20km buffer around our POI."
   ]
  },
  {
   "cell_type": "code",
   "execution_count": null,
   "id": "blank-professional",
   "metadata": {
    "slideshow": {
     "slide_type": "slide"
    }
   },
   "outputs": [],
   "source": [
    "# create a list of images we want (before, during, after)\n",
    "sentinel_sequence = [0,9]"
   ]
  },
  {
   "cell_type": "code",
   "execution_count": null,
   "id": "acceptable-tribe",
   "metadata": {
    "slideshow": {
     "slide_type": "fragment"
    }
   },
   "outputs": [],
   "source": [
    "# Define a region of interest with a buffer zone of 20 km\n",
    "roi = poi.buffer(6_000) # meters"
   ]
  },
  {
   "cell_type": "code",
   "execution_count": null,
   "id": "played-definition",
   "metadata": {
    "slideshow": {
     "slide_type": "fragment"
    }
   },
   "outputs": [],
   "source": [
    "parameters = {\n",
    "                'min': 0,\n",
    "                'max': 3_000,\n",
    "                'dimensions': 800,\n",
    "                'bands': ['B4', 'B3', 'B2'],\n",
    "                'region':roi\n",
    "             }"
   ]
  },
  {
   "cell_type": "code",
   "execution_count": null,
   "id": "graduate-consent",
   "metadata": {
    "scrolled": false,
    "slideshow": {
     "slide_type": "slide"
    },
    "tags": []
   },
   "outputs": [],
   "source": [
    "for i in sentinel_sequence:\n",
    "    \n",
    "    # when was this image taken?\n",
    "    unix_time = ee.Image(sentinel_list.get(i)).get('GENERATION_TIME').getInfo() / 1_000\n",
    "    date_time = datetime.fromtimestamp(unix_time).strftime('%Y-%m-%d %H:%M:%S')\n",
    "\n",
    "    # cloud cover\n",
    "    cloud = ee.Image(sentinel_list.get(i)).get('CLOUD_COVERAGE_ASSESSMENT').getInfo()\n",
    "    \n",
    "    print('Image #',i,date_time,'Cloud cover:',cloud)\n",
    "    \n",
    "    display(Image(url = ee.Image(sentinel_list.get(i)).getThumbUrl(parameters)))"
   ]
  },
  {
   "cell_type": "markdown",
   "id": "abstract-sound",
   "metadata": {
    "slideshow": {
     "slide_type": "slide"
    }
   },
   "source": [
    "<div class=\"alert alert-info\">\n",
    "Take a moment to inspect the three images above. What do they tell you? What do they NOT tell you?\n",
    "</div>"
   ]
  },
  {
   "cell_type": "markdown",
   "id": "increasing-rebel",
   "metadata": {
    "slideshow": {
     "slide_type": "slide"
    }
   },
   "source": [
    "## Normalized Difference Vegetation Index (NDVI)\n",
    "\n",
    "The normalized difference vegetation index (NDVI) is a simple graphical indicator that can be used to analyze remote sensing measurements, often from a space platform, assessing whether or not the target being observed contains live green vegetation.\n",
    "\n",
    "<img src=\"images/ndvi.png\" width=600>\n",
    "\n",
    "- [Source: Agricolus](https://www.agricolus.com/en/vegetation-indices-ndvi-ndmi/)"
   ]
  },
  {
   "cell_type": "markdown",
   "id": "a6272a99",
   "metadata": {
    "slideshow": {
     "slide_type": "slide"
    }
   },
   "source": [
    "### Calculating NDVI in Google Earth Engine\n",
    "\n",
    "- https://developers.google.com/earth-engine/tutorials/tutorial_api_06"
   ]
  },
  {
   "cell_type": "code",
   "execution_count": null,
   "id": "surprised-elder",
   "metadata": {
    "slideshow": {
     "slide_type": "fragment"
    }
   },
   "outputs": [],
   "source": [
    "# ndvi palette: red is low, green is high vegetation\n",
    "palette = ['red', 'yellow', 'green']\n",
    "\n",
    "ndvi_parameters = {'min': 0,\n",
    "                   'max': 0.4,\n",
    "                   'dimensions': 1024,\n",
    "                   'palette': palette,\n",
    "                   'region': roi}"
   ]
  },
  {
   "cell_type": "code",
   "execution_count": null,
   "id": "reasonable-stroke",
   "metadata": {
    "scrolled": false,
    "slideshow": {
     "slide_type": "slide"
    },
    "tags": []
   },
   "outputs": [],
   "source": [
    "for i in sentinel_sequence:\n",
    "\n",
    "    # when was this image taken?\n",
    "    unix_time = ee.Image(sentinel_list.get(i)).get('GENERATION_TIME').getInfo() / 1_000\n",
    "    date_time = datetime.fromtimestamp(unix_time).strftime('%Y-%m-%d %H:%M:%S')\n",
    "\n",
    "    print('Image #',i,date_time)\n",
    "    \n",
    "    # display the image\n",
    "    display(\n",
    "        Image(\n",
    "            url=ee.Image(sentinel_list.get(i)).normalizedDifference(['B8', 'B4']).getThumbUrl(ndvi_parameters)\n",
    "        )\n",
    "    )"
   ]
  },
  {
   "cell_type": "markdown",
   "id": "exceptional-elimination",
   "metadata": {
    "slideshow": {
     "slide_type": "slide"
    },
    "tags": []
   },
   "source": [
    "## Folium\n",
    "\n",
    "Of course, we can't end the lab without an interactive map. For this, we can use [folium](https://python-visualization.github.io/folium/quickstart.html), which uses the open-source javascript mapping library [leaflet](https://leafletjs.com/).\n",
    "\n",
    "- https://python-visualization.github.io/folium/quickstart.html"
   ]
  },
  {
   "cell_type": "markdown",
   "id": "b9e946d8",
   "metadata": {},
   "source": [
    "Google earth engine works with folium:\n",
    "- https://developers.google.com/earth-engine/tutorials/community/intro-to-python-api-guiattard?hl=en#interactive_mapping_using_folium"
   ]
  },
  {
   "cell_type": "code",
   "execution_count": null,
   "id": "d001bf6d",
   "metadata": {},
   "outputs": [],
   "source": [
    "! pip install folium --quiet"
   ]
  },
  {
   "cell_type": "code",
   "execution_count": null,
   "id": "hearing-shakespeare",
   "metadata": {
    "slideshow": {
     "slide_type": "slide"
    }
   },
   "outputs": [],
   "source": [
    "import folium\n",
    "\n",
    "# Google function that allows ee layers on folium\n",
    "def add_ee_layer(self, ee_image_object, vis_params, name):\n",
    "    \"\"\"Adds a method for displaying Earth Engine image tiles to folium map.\"\"\"\n",
    "    map_id_dict = ee.Image(ee_image_object).getMapId(vis_params)\n",
    "    folium.raster_layers.TileLayer(\n",
    "        tiles=map_id_dict['tile_fetcher'].url_format,\n",
    "        attr='Map Data &copy; <a href=\"https://earthengine.google.com/\">Google Earth Engine</a>',\n",
    "        name=name,\n",
    "        overlay=True,\n",
    "        control=True\n",
    "    ).add_to(self)\n",
    "\n",
    "# Add Earth Engine drawing method to folium\n",
    "folium.Map.add_ee_layer = add_ee_layer"
   ]
  },
  {
   "cell_type": "code",
   "execution_count": null,
   "id": "breeding-composer",
   "metadata": {
    "slideshow": {
     "slide_type": "slide"
    }
   },
   "outputs": [],
   "source": [
    "# Create a map\n",
    "my_map = folium.Map(location=[lat, lon], zoom_start=13)\n",
    "\n",
    "# Add a layer for each satellite image of interest (before, during and after)\n",
    "for i in sentinel_sequence:\n",
    "\n",
    "    # when was this image taken?\n",
    "    unix_time = ee.Image(sentinel_list.get(i)).get('GENERATION_TIME').getInfo() / 1_000\n",
    "    date_time = datetime.fromtimestamp(unix_time).strftime('%Y-%m-%d %H:%M:%S')\n",
    "\n",
    "    my_map.add_ee_layer(\n",
    "        ee.Image(sentinel_list.get(i)).normalizedDifference(['B8', 'B4']), \n",
    "        ndvi_parameters,\n",
    "        name=date_time,\n",
    "    )\n",
    "    \n",
    "# Add a layer control panel to the map\n",
    "folium.LayerControl(collapsed = False).add_to(my_map)\n",
    "\n",
    "# Display the map.\n",
    "display(my_map)"
   ]
  },
  {
   "cell_type": "markdown",
   "id": "surgical-schema",
   "metadata": {
    "slideshow": {
     "slide_type": "slide"
    }
   },
   "source": [
    "## Save the folium map as an html file"
   ]
  },
  {
   "cell_type": "code",
   "execution_count": null,
   "id": "similar-effects",
   "metadata": {},
   "outputs": [],
   "source": [
    "my_map.save('vesuvius.html')"
   ]
  }
 ],
 "metadata": {
  "celltoolbar": "Slideshow",
  "kernelspec": {
   "display_name": "Python 3 (ipykernel)",
   "language": "python",
   "name": "python3"
  },
  "language_info": {
   "codemirror_mode": {
    "name": "ipython",
    "version": 3
   },
   "file_extension": ".py",
   "mimetype": "text/x-python",
   "name": "python",
   "nbconvert_exporter": "python",
   "pygments_lexer": "ipython3",
   "version": "3.10.12"
  },
  "toc": {
   "base_numbering": 1,
   "nav_menu": {},
   "number_sections": true,
   "sideBar": true,
   "skip_h1_title": false,
   "title_cell": "Table of Contents",
   "title_sidebar": "Contents",
   "toc_cell": false,
   "toc_position": {
    "height": "calc(100% - 180px)",
    "left": "10px",
    "top": "150px",
    "width": "271.188px"
   },
   "toc_section_display": true,
   "toc_window_display": false
  }
 },
 "nbformat": 4,
 "nbformat_minor": 5
}
