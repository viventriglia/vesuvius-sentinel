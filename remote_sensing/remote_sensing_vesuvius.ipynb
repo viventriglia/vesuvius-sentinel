{
 "cells": [
  {
   "cell_type": "markdown",
   "id": "4a60abf4",
   "metadata": {
    "slideshow": {
     "slide_type": "slide"
    }
   },
   "source": [
    "# Remote Sensing with Python\n",
    "\n",
    ">\"...the time is now right and urgent to apply space technology towards the solution of many pressing natural resources problems being compounded by population and industrial growth.\"\n",
    "\n",
    "*Stewart Udall, Secretary of the Interior, September 21, 1966*\n",
    "\n",
    "## Workflow\n",
    "\n",
    "We will do the following:\n",
    "\n",
    "- Use Google Earth Engine's Python API\n",
    "- define an AOI (area of interest) in the Campania region\n",
    "- import multiple Sentinel-2 images from the dates before and after the fires\n",
    "- determine which images are best for analysis\n",
    "- create various NDVI map outputs to assess the amount of fire damage\n",
    "\n",
    "We will use Google Earth Engine's **Harmonized Sentinel-2 MSI**: MultiSpectral Instrument, Level-2A [[EE Sentinel 2](https://developers.google.com/earth-engine/datasets/catalog/COPERNICUS_S2_SR_HARMONIZED)]"
   ]
  },
  {
   "cell_type": "code",
   "execution_count": null,
   "id": "racial-likelihood",
   "metadata": {
    "slideshow": {
     "slide_type": "-"
    }
   },
   "outputs": [],
   "source": [
    "from pathlib import Path\n",
    "from datetime import datetime\n",
    "from PIL import Image as PILImage\n",
    "from io import BytesIO\n",
    "import requests\n",
    "import pytz\n",
    "\n",
    "import ee\n",
    "import numpy as np\n",
    "import pandas as pd\n",
    "import geopandas as gpd\n",
    "import folium\n",
    "import matplotlib.pyplot as plt\n",
    "from IPython.display import Image\n",
    "\n",
    "from utils import add_ee_layer\n",
    "\n",
    "IMAGES_PATH = Path(Path.cwd().parent, \"images\")"
   ]
  },
  {
   "cell_type": "code",
   "execution_count": null,
   "id": "existing-generic",
   "metadata": {
    "slideshow": {
     "slide_type": "-"
    }
   },
   "outputs": [],
   "source": [
    "# Trigger the authentication flow\n",
    "ee.Authenticate()\n",
    "\n",
    "# Initialize the GEE library\n",
    "ee.Initialize()"
   ]
  },
  {
   "cell_type": "markdown",
   "id": "ce5ff97f",
   "metadata": {
    "slideshow": {
     "slide_type": "slide"
    }
   },
   "source": [
    "## Define filters"
   ]
  },
  {
   "cell_type": "code",
   "execution_count": null,
   "id": "7c088270",
   "metadata": {},
   "outputs": [],
   "source": [
    "# coordinates of Mount Vesuvius (Naples, Italy)\n",
    "lat = 40.821330\n",
    "lon = 14.426102\n",
    "\n",
    "# point of interest as an ee.Geometry\n",
    "poi = ee.Geometry.Point(lon,lat)\n",
    "\n",
    "# time filters\n",
    "dates = [\n",
    "    ('2017-05-10', '2017-05-25'),\n",
    "    ('2017-08-01', '2017-08-18'),\n",
    "    ('2023-07-10', '2023-07-18'),\n",
    "#     ('2024-02-18', '2024-02-25'),\n",
    "]\n",
    "\n",
    "filters = [ee.Filter.date(start, end) for start, end in dates]\n",
    "comb_filter = ee.Filter.Or(*filters)"
   ]
  },
  {
   "cell_type": "markdown",
   "id": "254614f6",
   "metadata": {
    "slideshow": {
     "slide_type": "slide"
    }
   },
   "source": [
    "## Get Sentinel-2 data"
   ]
  },
  {
   "cell_type": "code",
   "execution_count": null,
   "id": "f7f4719d",
   "metadata": {},
   "outputs": [],
   "source": [
    "sentinel = ee.ImageCollection(\n",
    "    \"COPERNICUS/S2_SR_HARMONIZED\"\n",
    ").filterBounds(\n",
    "    poi\n",
    ").filter(\n",
    "    comb_filter\n",
    ")"
   ]
  },
  {
   "cell_type": "code",
   "execution_count": null,
   "id": "inclusive-blame",
   "metadata": {
    "slideshow": {
     "slide_type": "fragment"
    }
   },
   "outputs": [],
   "source": [
    "sentinel_list = sentinel.toList(sentinel.size())"
   ]
  },
  {
   "cell_type": "code",
   "execution_count": null,
   "id": "invisible-amplifier",
   "metadata": {
    "slideshow": {
     "slide_type": "slide"
    }
   },
   "outputs": [],
   "source": [
    "print(f'Number of images downloaded: {sentinel.size().getInfo()}')"
   ]
  },
  {
   "cell_type": "code",
   "execution_count": null,
   "id": "jewish-dakota",
   "metadata": {
    "slideshow": {
     "slide_type": "slide"
    }
   },
   "outputs": [],
   "source": [
    "# sentinel.first().getInfo()"
   ]
  },
  {
   "cell_type": "code",
   "execution_count": null,
   "id": "surprising-bleeding",
   "metadata": {
    "slideshow": {
     "slide_type": "slide"
    }
   },
   "outputs": [],
   "source": [
    "# Bands\n",
    "# sentinel.first().bandNames().getInfo()"
   ]
  },
  {
   "cell_type": "markdown",
   "id": "a554afba",
   "metadata": {
    "slideshow": {
     "slide_type": "slide"
    }
   },
   "source": [
    "## Display satellite images"
   ]
  },
  {
   "cell_type": "code",
   "execution_count": null,
   "id": "recreational-feeding",
   "metadata": {},
   "outputs": [],
   "source": [
    "# set some parameters for the images\n",
    "parameters = {\n",
    "    'min': 0,\n",
    "    'max': 3_000,\n",
    "    'dimensions': 800,\n",
    "    'bands': ['B4', 'B3', 'B2'], # bands to display (r,g,b)\n",
    "}"
   ]
  },
  {
   "cell_type": "code",
   "execution_count": null,
   "id": "subject-mongolia",
   "metadata": {
    "scrolled": false,
    "slideshow": {
     "slide_type": "slide"
    },
    "tags": []
   },
   "outputs": [],
   "source": [
    "data = []\n",
    "for i in range(sentinel.size().getInfo()):\n",
    "\n",
    "    # when was this image taken?\n",
    "    unix_time = ee.Image(sentinel_list.get(i)).get('GENERATION_TIME').getInfo() / 1_000\n",
    "    date_time = datetime.fromtimestamp(unix_time).strftime('%Y-%m-%d %H:%M:%S')\n",
    "    \n",
    "    # cloud cover\n",
    "    cloud = ee.Image(sentinel_list.get(i)).get('CLOUD_COVERAGE_ASSESSMENT').getInfo()\n",
    "    print(f'Image #{i} | {date_time} | cloud coverage: {np.round(cloud, 1)}%')\n",
    "    \n",
    "    display(\n",
    "        Image(\n",
    "            url=ee.Image(sentinel_list.get(i)).getThumbUrl(parameters)\n",
    "        )\n",
    "    )\n",
    "\n",
    "    this_data = [i, date_time, cloud]\n",
    "    data.append(this_data)    \n",
    "\n",
    "df = pd.DataFrame(data, columns = ['Image #', 'Datetime', 'Cloud Cover'])"
   ]
  },
  {
   "cell_type": "code",
   "execution_count": null,
   "id": "8acb0b6f",
   "metadata": {
    "slideshow": {
     "slide_type": "slide"
    }
   },
   "outputs": [],
   "source": [
    "df"
   ]
  },
  {
   "cell_type": "markdown",
   "id": "88d23d23",
   "metadata": {
    "slideshow": {
     "slide_type": "slide"
    }
   },
   "source": [
    "## Selecting images, zooming in\n",
    "Now that we have inspected our collection of images, we can pick and choose which ones are relevant for our study. Ideally, we want to have images for before and after the fire to be able to assess the level of damage.\n",
    "\n",
    "We also want to create an ROI (region of interest) and zoom in to the area of interest. We do so by applying a buffer around our POI."
   ]
  },
  {
   "cell_type": "code",
   "execution_count": null,
   "id": "blank-professional",
   "metadata": {
    "slideshow": {
     "slide_type": "slide"
    }
   },
   "outputs": [],
   "source": [
    "# create a list of images we want (before, after, some years later)\n",
    "sentinel_sequence = [0, 1, 4]"
   ]
  },
  {
   "cell_type": "code",
   "execution_count": null,
   "id": "acceptable-tribe",
   "metadata": {
    "slideshow": {
     "slide_type": "fragment"
    }
   },
   "outputs": [],
   "source": [
    "# Define a region of interest with a buffer zone of 6 km (5_000 metres)\n",
    "roi = poi.buffer(5_000)"
   ]
  },
  {
   "cell_type": "code",
   "execution_count": null,
   "id": "89e4736e",
   "metadata": {},
   "outputs": [],
   "source": [
    "# download_url = ee.Image(sentinel_list.get(4)).visualize(\n",
    "#     **{\n",
    "#         'min': 0,\n",
    "#         'max': 3_000,\n",
    "#         'bands': ['B4', 'B3', 'B2'],\n",
    "#     }\n",
    "# ).getDownloadURL(\n",
    "#     {\n",
    "#         'dimensions': 2_850,\n",
    "#         'region': roi,\n",
    "#         'format': 'GEO_TIFF',\n",
    "#     }\n",
    "# )\n",
    "\n",
    "# response = requests.get(download_url)\n",
    "# if response.status_code == 200:\n",
    "#     with open(IMAGES_PATH / \"vesuvius_from_above.tiff\", 'wb') as file:\n",
    "#         file.write(response.content)\n",
    "#     print(\"Done!\")\n",
    "# else:\n",
    "#     print(\"Error\")"
   ]
  },
  {
   "cell_type": "code",
   "execution_count": null,
   "id": "played-definition",
   "metadata": {
    "slideshow": {
     "slide_type": "fragment"
    }
   },
   "outputs": [],
   "source": [
    "parameters = {\n",
    "    'min': 0,\n",
    "    'max': 3_000,\n",
    "    'dimensions': 2_800,\n",
    "    'bands': ['B4', 'B3', 'B2'],\n",
    "    'region': roi,\n",
    "}"
   ]
  },
  {
   "cell_type": "code",
   "execution_count": null,
   "id": "graduate-consent",
   "metadata": {
    "scrolled": false,
    "slideshow": {
     "slide_type": "slide"
    },
    "tags": []
   },
   "outputs": [],
   "source": [
    "for i in sentinel_sequence:\n",
    "    \n",
    "    # when was this image taken?\n",
    "    unix_time = ee.Image(sentinel_list.get(i)).get('GENERATION_TIME').getInfo() / 1_000\n",
    "    date_time = datetime.fromtimestamp(unix_time).strftime('%Y-%m-%d %H:%M:%S')\n",
    "\n",
    "    # cloud cover\n",
    "    cloud = ee.Image(sentinel_list.get(i)).get('CLOUD_COVERAGE_ASSESSMENT').getInfo()\n",
    "    \n",
    "    print(f'Image #{i} | {date_time} | cloud coverage: {np.round(cloud, 1)}%')\n",
    "    \n",
    "    display(\n",
    "        Image(\n",
    "            url=ee.Image(sentinel_list.get(i)).getThumbUrl(parameters)\n",
    "        )\n",
    "    )"
   ]
  },
  {
   "cell_type": "markdown",
   "id": "40cf04ef",
   "metadata": {
    "slideshow": {
     "slide_type": "slide"
    }
   },
   "source": [
    "## Normalized Difference Vegetation Index (NDVI)\n",
    "\n",
    "The normalized difference vegetation index (NDVI) is a simple graphical indicator that can be used to analyze remote sensing measurements, often from a space platform, assessing whether or not the target being observed contains live green vegetation.\n",
    "\n",
    "- [Source: Agricolus](https://www.agricolus.com/en/vegetation-indices-ndvi-ndmi/)"
   ]
  },
  {
   "cell_type": "code",
   "execution_count": null,
   "id": "surprised-elder",
   "metadata": {
    "slideshow": {
     "slide_type": "fragment"
    }
   },
   "outputs": [],
   "source": [
    "# ndvi palette: red is low, green is high vegetation\n",
    "palette = ['red', 'yellow', 'green']\n",
    "\n",
    "ndvi_parameters = {\n",
    "    'min': 0.1,\n",
    "    'max': 0.5,\n",
    "    'dimensions': 2_800,\n",
    "    'palette': palette,\n",
    "    'region': roi,\n",
    "}\n",
    "\n",
    "parameters = {\n",
    "    'min': 0,\n",
    "    'max': 3_000,\n",
    "    'dimensions': 2_800,\n",
    "    'bands': ['B4', 'B3', 'B2'],\n",
    "    'region': roi,\n",
    "}"
   ]
  },
  {
   "cell_type": "code",
   "execution_count": null,
   "id": "reasonable-stroke",
   "metadata": {
    "scrolled": false,
    "slideshow": {
     "slide_type": "slide"
    },
    "tags": []
   },
   "outputs": [],
   "source": [
    "# for i in sentinel_sequence:\n",
    "\n",
    "#     # when was this image taken?\n",
    "#     unix_time = ee.Image(sentinel_list.get(i)).get('GENERATION_TIME').getInfo() / 1_000\n",
    "#     date_time = datetime.fromtimestamp(unix_time).strftime('%Y-%m-%d %H:%M:%S')\n",
    "\n",
    "#     print(f'Image #{i} | {date_time}')\n",
    "    \n",
    "#     # display the image\n",
    "#     display(\n",
    "#         Image(\n",
    "#             url=ee.Image(sentinel_list.get(i)).normalizedDifference(['B8', 'B4']).getThumbUrl(ndvi_parameters)\n",
    "#         )\n",
    "#     )"
   ]
  },
  {
   "cell_type": "code",
   "execution_count": null,
   "id": "breeding-composer",
   "metadata": {
    "slideshow": {
     "slide_type": "slide"
    }
   },
   "outputs": [],
   "source": [
    "folium.Map.add_ee_layer = add_ee_layer\n",
    "vesuvius_map = folium.Map(location=[lat, lon], zoom_start=13)\n",
    "\n",
    "# Add a layer for each satellite image of interest (before, during and after)\n",
    "for i in sentinel_sequence:\n",
    "\n",
    "    # when was this image taken?\n",
    "    unix_time = ee.Image(sentinel_list.get(i)).get('GENERATION_TIME').getInfo() / 1_000\n",
    "    date_time = datetime.fromtimestamp(unix_time).strftime('%Y-%m-%d %H:%M:%S')\n",
    "\n",
    "    vesuvius_map.add_ee_layer(\n",
    "        ee.Image(sentinel_list.get(i)).normalizedDifference(['B8', 'B4']), \n",
    "        ndvi_parameters,\n",
    "        name=date_time,\n",
    "    )\n",
    "    \n",
    "# Add a layer control panel to the map\n",
    "folium.LayerControl(collapsed = False).add_to(vesuvius_map)\n",
    "\n",
    "# vesuvius_map.save(IMAGES_PATH / \"vesuvius_interactive.html\")\n",
    "display(vesuvius_map)"
   ]
  },
  {
   "cell_type": "code",
   "execution_count": null,
   "id": "2319bc01",
   "metadata": {},
   "outputs": [],
   "source": [
    "num_cols = len(sentinel_sequence)\n",
    "plt.figure(figsize=(14, 20))\n",
    "\n",
    "for i, image_index in enumerate(sentinel_sequence):\n",
    "    # NDVI\n",
    "    image_ndvi_url = ee.Image(\n",
    "        sentinel_list.get(image_index)\n",
    "    ).normalizedDifference(\n",
    "        ['B8', 'B4']\n",
    "    ).getThumbUrl(\n",
    "        ndvi_parameters\n",
    "    )\n",
    "    image_ndvi_content = requests.get(image_ndvi_url).content\n",
    "    image_ndvi = PILImage.open(BytesIO(image_ndvi_content))\n",
    "    \n",
    "    plt.subplot(1, num_cols, i+1)\n",
    "    plt.axis('off')\n",
    "    plt.imshow(np.asarray(image_ndvi))\n",
    "    plt.title(r'$\\it{NDVI}$', fontsize=12)\n",
    "    \n",
    "    # RGB\n",
    "    image_url = ee.Image(\n",
    "        sentinel_list.get(image_index)\n",
    "    ).getThumbUrl(\n",
    "        parameters\n",
    "    )\n",
    "    image_content = requests.get(image_url).content\n",
    "    image = PILImage.open(BytesIO(image_content))\n",
    "    \n",
    "    plt.subplot(2, num_cols, i+1)\n",
    "    plt.axis('off')\n",
    "    plt.imshow(np.asarray(image))\n",
    "    \n",
    "    unix_time = ee.Image(sentinel_list.get(image_index)).get('GENERATION_TIME').getInfo() / 1_000\n",
    "    date_time = datetime.fromtimestamp(unix_time, tz=pytz.UTC).strftime('%Y-%m-%d, %H:%M')    \n",
    "    plt.title(f\"{date_time} (UTC)\\n\" + r\"$\\it{RGB}$\", fontsize=12, fontweight=\"bold\")\n",
    "\n",
    "plt.subplots_adjust(wspace=0.04, hspace=0.04)\n",
    "plt.savefig(IMAGES_PATH / \"rgb_ndvi.png\", bbox_inches='tight', dpi=300)\n",
    "plt.show()"
   ]
  }
 ],
 "metadata": {
  "kernelspec": {
   "display_name": "Python 3 (ipykernel)",
   "language": "python",
   "name": "python3"
  },
  "language_info": {
   "codemirror_mode": {
    "name": "ipython",
    "version": 3
   },
   "file_extension": ".py",
   "mimetype": "text/x-python",
   "name": "python",
   "nbconvert_exporter": "python",
   "pygments_lexer": "ipython3",
   "version": "3.10.8"
  },
  "toc": {
   "base_numbering": 1,
   "nav_menu": {},
   "number_sections": true,
   "sideBar": true,
   "skip_h1_title": false,
   "title_cell": "Table of Contents",
   "title_sidebar": "Contents",
   "toc_cell": false,
   "toc_position": {
    "height": "calc(100% - 180px)",
    "left": "10px",
    "top": "150px",
    "width": "271.188px"
   },
   "toc_section_display": true,
   "toc_window_display": false
  }
 },
 "nbformat": 4,
 "nbformat_minor": 5
}
